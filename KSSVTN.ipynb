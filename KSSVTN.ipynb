{
 "cells": [
  {
   "cell_type": "code",
   "execution_count": 1,
   "metadata": {},
   "outputs": [],
   "source": [
    "import pandas as pd\n",
    "df1 = pd.read_excel('DHKT_DHDN_DU LIEU KS SVTN 22-23.xlsx')"
   ]
  },
  {
   "cell_type": "code",
   "execution_count": 5,
   "metadata": {},
   "outputs": [
    {
     "name": "stdout",
     "output_type": "stream",
     "text": [
      "         STT  Số phiếu   Q1   Q2   Q3   Q4   Q5   Q6   Q7   Q8  ...      Q54  \\\n",
      "0     1161.0    1161.0  4.0  3.0  4.0  5.0  4.0  4.0  4.0  4.0  ...  Tư nhân   \n",
      "1      433.0     433.0  5.0  5.0  5.0  5.0  5.0  5.0  5.0  5.0  ...      NaN   \n",
      "2     1152.0    1152.0  4.0  4.0  4.0  4.0  4.0  4.0  4.0  4.0  ...  Tư nhân   \n",
      "3      960.0     960.0  5.0  4.0  4.0  5.0  4.0  5.0  4.0  5.0  ...  Tư nhân   \n",
      "4      747.0     747.0  5.0  5.0  4.0  4.0  5.0  5.0  4.0  5.0  ...  Tư nhân   \n",
      "...      ...       ...  ...  ...  ...  ...  ...  ...  ...  ...  ...      ...   \n",
      "2047  1997.0    1997.0  5.0  5.0  5.0  5.0  5.0  5.0  5.0  5.0  ...      NaN   \n",
      "2049  2008.0    2008.0  5.0  5.0  4.0  5.0  4.0  5.0  5.0  4.0  ...      NaN   \n",
      "2050  2018.0    2018.0  4.0  4.0  4.0  4.0  3.0  4.0  4.0  5.0  ...      NaN   \n",
      "2051  2031.0    2031.0  3.0  3.0  3.0  3.0  3.0  3.0  3.0  3.0  ...      NaN   \n",
      "2052  2052.0    2052.0  4.0  4.0  4.0  4.0  4.0  4.0  4.0  4.0  ...      NaN   \n",
      "\n",
      "                   Họ và tên      Lớp                          Chuyên ngành  \\\n",
      "0        TRẦN THỊ LANG HƯƠNG  45K08.1        Quản trị kinh doanh thương mại   \n",
      "1          LÊ THỊ THANH THUỲ  45K13.1                       Luật kinh doanh   \n",
      "2            NGUYỄN ANH TUẤN  45K08.3        Quản trị kinh doanh thương mại   \n",
      "3           VÕ THỊ BÍCH HIỀN  45K04.2                    Kinh tế phát triển   \n",
      "4       NGUYỄN THỊ NGỌC ĐIỆP  45K03.4           Quản trị kinh doanh du lịch   \n",
      "...                      ...      ...                                   ...   \n",
      "2047  Lê Nguyễn Hoàng Phương  45K02.5         Quản trị kinh doanh tổng quát   \n",
      "2049                Hạnh Nhi    45K17               Quản trị nguồn nhân lực   \n",
      "2050           Hoàng Thảo Ni    45K17               Quản trị nguồn nhân lực   \n",
      "2051          Hoàng Xuân Bảo  45K25.2  Quản trị chuỗi cung ứng và logistics   \n",
      "2052            Đặng Yến Nhi  45K02.1         Quản trị kinh doanh tổng quát   \n",
      "\n",
      "              Unnamed: 59                                       Unnamed: 60  \\\n",
      "0      Thương mại điện tử      TRẦN THỊ LANG HƯƠNG45K08.1Thương mại điện tử   \n",
      "1                    Luật                      LÊ THỊ THANH THUỲ45K13.1Luật   \n",
      "2      Thương mại điện tử          NGUYỄN ANH TUẤN45K08.3Thương mại điện tử   \n",
      "3                 Kinh tế                    VÕ THỊ BÍCH HIỀN45K04.2Kinh tế   \n",
      "4                 Du lịch                NGUYỄN THỊ NGỌC ĐIỆP45K03.4Du lịch   \n",
      "...                   ...                                               ...   \n",
      "2047  Quản trị kinh doanh  Lê Nguyễn Hoàng Phương45K02.5Quản trị kinh doanh   \n",
      "2049  Quản trị kinh doanh                  Hạnh Nhi45K17Quản trị kinh doanh   \n",
      "2050  Quản trị kinh doanh             Hoàng Thảo Ni45K17Quản trị kinh doanh   \n",
      "2051  Quản trị kinh doanh          Hoàng Xuân Bảo45K25.2Quản trị kinh doanh   \n",
      "2052  Quản trị kinh doanh            Đặng Yến Nhi45K02.1Quản trị kinh doanh   \n",
      "\n",
      "                            Email  Điện thoại  \\\n",
      "0                             NaN  33658865.0   \n",
      "1         THANHTHUY6901@GMAIL.COM  33757722.0   \n",
      "2     ANHTUANNGUYEN8826@GMAIL.COM  33897842.0   \n",
      "3     PHANTHIBICHDAO2K1@GMAIL.COM  34233957.0   \n",
      "4        NGOCDIEP240201@GMAIL.COM  77357711.0   \n",
      "...                           ...         ...   \n",
      "2047                          NaN         NaN   \n",
      "2049         nhihanh200@gmail.com         NaN   \n",
      "2050       nigemini2001@gmail.com         NaN   \n",
      "2051                          NaN         NaN   \n",
      "2052                          NaN         NaN   \n",
      "\n",
      "                                                    key  Mã sinh viên  \n",
      "0                                                   NaN           001  \n",
      "1       LÊ THỊ THANH THUỲ45K13.1THANHTHUY6901@GMAIL.COM           002  \n",
      "2     NGUYỄN ANH TUẤN45K08.3ANHTUANNGUYEN8826@GMAIL.COM           003  \n",
      "3     VÕ THỊ BÍCH HIỀN45K04.2PHANTHIBICHDAO2K1@GMAIL...           004  \n",
      "4     NGUYỄN THỊ NGỌC ĐIỆP45K03.4NGOCDIEP240201@GMAI...           005  \n",
      "...                                                 ...           ...  \n",
      "2047                                                NaN        002043  \n",
      "2049                  Hạnh Nhi45K17nhihanh200@gmail.com        002044  \n",
      "2050           Hoàng Thảo Ni45K17nigemini2001@gmail.com        002045  \n",
      "2051                                                NaN        002046  \n",
      "2052                                                NaN        002047  \n",
      "\n",
      "[2033 rows x 65 columns]\n"
     ]
    }
   ],
   "source": [
    "df1 = df1.dropna(subset=['STT', 'Họ và tên'])\n",
    "# Tạo một mảng boolean để chỉ ra các hàng phù hợp với điều kiện\n",
    "keep_rows = [True]  # Giữ lại hàng đầu tiên\n",
    "for i in range(1, len(df1)):\n",
    "    condition = (df1['Họ và tên'].iloc[i] == df1['Họ và tên'].iloc[i-1]) and (df1['Lớp'].iloc[i] == df1['Lớp'].iloc[i-1]) and (df1['Điện thoại'].iloc[i] == df1['Điện thoại'].iloc[i-1])\n",
    "    keep_rows.append(not condition)\n",
    "\n",
    "# Lọc DataFrame với mảng boolean\n",
    "df1 = df1[keep_rows]\n",
    "\n",
    "# In DataFrame đã được sửa đổi\n",
    "print(df1)"
   ]
  },
  {
   "cell_type": "code",
   "execution_count": 6,
   "metadata": {},
   "outputs": [],
   "source": [
    "\n",
    "next_index = 1\n",
    "# Hàm để tạo các giá trị tự động\n",
    "def generate_index():\n",
    "    global next_index\n",
    "    index = next_index\n",
    "    next_index += 1\n",
    "    return index\n",
    "\n",
    "df1['Mã sinh viên'] = df1.apply(lambda row: generate_index(), axis =1)\n",
    "df1['Mã sinh viên'] = df1['Mã sinh viên'].apply(lambda x: '00' + str(x))\n",
    "\n"
   ]
  },
  {
   "cell_type": "code",
   "execution_count": null,
   "metadata": {},
   "outputs": [],
   "source": []
  },
  {
   "cell_type": "code",
   "execution_count": 7,
   "metadata": {},
   "outputs": [],
   "source": [
    "df1.to_excel('KSSVTN2023_transform.xlsx', index=False )"
   ]
  }
 ],
 "metadata": {
  "kernelspec": {
   "display_name": ".venv",
   "language": "python",
   "name": "python3"
  },
  "language_info": {
   "codemirror_mode": {
    "name": "ipython",
    "version": 3
   },
   "file_extension": ".py",
   "mimetype": "text/x-python",
   "name": "python",
   "nbconvert_exporter": "python",
   "pygments_lexer": "ipython3",
   "version": "3.12.1"
  }
 },
 "nbformat": 4,
 "nbformat_minor": 2
}
