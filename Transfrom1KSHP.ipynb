{
 "cells": [
  {
   "cell_type": "code",
   "execution_count": 1,
   "metadata": {},
   "outputs": [],
   "source": [
    "import csv\n",
    "\n",
    "# Tên file và chỉ mục của cột cần gộp\n",
    "input_file = 'DHKT-DHDN_KH HOC PHAN 22-23 (1).csv'\n",
    "output_file = 'tam.csv'\n",
    "start_column_index = 13  # Chỉ mục cột bắt đầu gộp\n",
    "\n",
    "# Đọc dữ liệu từ file CSV và lưu trữ vào danh sách dòng\n",
    "data = []\n",
    "with open(input_file, 'r', newline='', encoding='utf-8') as input_csvfile:\n",
    "    reader = csv.reader(input_csvfile)\n",
    "    for row in reader:\n",
    "        data.append(row)\n",
    "\n",
    "# Gộp các cột từ cột bắt đầu đến cột cuối cùng\n",
    "for row in data:\n",
    "    merged_value = '\",\"'.join(row[start_column_index:])  # Gộp các giá trị từ cột bắt đầu đến cột cuối cùng\n",
    "    row[start_column_index:] = [merged_value]  # Gán giá trị đã gộp vào cột đầu tiên\n",
    "\n",
    "# Ghi dữ liệu đã gộp và xóa các cột còn lại vào file CSV mới\n",
    "with open(output_file, 'w', newline='', encoding='utf-8') as output_csvfile:\n",
    "    writer = csv.writer(output_csvfile)\n",
    "    writer.writerows(data)\n",
    "\n"
   ]
  },
  {
   "cell_type": "code",
   "execution_count": 2,
   "metadata": {},
   "outputs": [],
   "source": [
    "import csv\n",
    "\n",
    "csv.field_size_limit(2**30)\n",
    "\n",
    "# Tên file và chỉ mục của cột cần gộp\n",
    "input_file_2 = 'khaosat_241_25.csv'\n",
    "output_file_2 = 'KSHP_1_24_transfrom.csv'\n",
    "start_column_index = 13  # Chỉ mục cột bắt đầu gộp\n",
    "\n",
    "# Đọc dữ liệu từ file CSV và lưu trữ vào danh sách dòng\n",
    "data_2 = []\n",
    "with open(input_file_2, 'r', newline='', encoding='utf-8') as input_csvfile_2:\n",
    "    reader_2 = csv.reader(input_csvfile_2)\n",
    "    for row_2 in reader_2:\n",
    "        data_2.append(row_2)\n",
    "\n",
    "# Gộp các cột từ cột bắt đầu đến cột cuối cùng\n",
    "for row_2 in data_2:\n",
    "    merged_value_2 = ''.join(row_2[start_column_index:])  # Gộp các giá trị từ cột bắt đầu đến cột cuối cùng\n",
    "    row_2[start_column_index:] = [merged_value_2]  # Gán giá trị đã gộp vào cột đầu tiên\n",
    "\n",
    "# Ghi dữ liệu đã gộp và xóa các cột còn lại vào file CSV mới\n",
    "with open(output_file_2, 'w', newline='', encoding='utf-8') as ouput_csvfile_2:\n",
    "    writer = csv.writer(ouput_csvfile_2)\n",
    "    writer.writerows(data_2)"
   ]
  },
  {
   "cell_type": "code",
   "execution_count": 3,
   "metadata": {},
   "outputs": [
    {
     "name": "stderr",
     "output_type": "stream",
     "text": [
      "C:\\Users\\DW\\AppData\\Local\\Temp\\ipykernel_352\\1200827682.py:3: DtypeWarning: Columns (7) have mixed types. Specify dtype option on import or set low_memory=False.\n",
      "  df = pd.read_csv('KSHP_1_24_transfrom.csv', header=None)\n"
     ]
    },
    {
     "name": "stdout",
     "output_type": "stream",
     "text": [
      "                 1                10  11\n",
      "0      161121317173        COM2001_3  23\n",
      "1      161121317173        LAW3010_1   5\n",
      "2      171121006515  ACC3001_47K18.1   1\n",
      "3      171121006515  ACC3010_46K06.6   1\n",
      "4      171121006515  LAW1001_49K06.6   1\n",
      "...             ...              ...  ..\n",
      "71149  231124029244  LAW1001_49K29.2   1\n",
      "71150  231124029244  MGT1001_49K29.2   1\n",
      "71151  231124029244  MGT1002_49K29.2   1\n",
      "71152  231124029244  MIS3001_49K29.2   1\n",
      "71153  231124029244        SMT1005_4   1\n",
      "\n",
      "[71154 rows x 3 columns]\n"
     ]
    }
   ],
   "source": [
    "# group by dữ liệu theo cột mã sinh viên và mã lớp học phần, tính tổng số câu trả lời\n",
    "import pandas as pd\n",
    "df = pd.read_csv('KSHP_1_24_transfrom.csv', header=None)\n",
    "gr_df = df.groupby([df.columns[1], df.columns[10]])[df.columns[11]].agg('count').reset_index()\n",
    "print(gr_df)    "
   ]
  },
  {
   "cell_type": "code",
   "execution_count": 4,
   "metadata": {},
   "outputs": [
    {
     "name": "stdout",
     "output_type": "stream",
     "text": [
      "                  1               10  11                          key\n",
      "0      161121317173        COM2001_3  23        161121317173COM2001_3\n",
      "1      161121317173        LAW3010_1   5        161121317173LAW3010_1\n",
      "2      171121006515  ACC3001_47K18.1   1  171121006515ACC3001_47K18.1\n",
      "3      171121006515  ACC3010_46K06.6   1  171121006515ACC3010_46K06.6\n",
      "4      171121006515  LAW1001_49K06.6   1  171121006515LAW1001_49K06.6\n",
      "...             ...              ...  ..                          ...\n",
      "30715  231124029244  LAW1001_49K29.2   1  231124029244LAW1001_49K29.2\n",
      "30716  231124029244  MGT1001_49K29.2   1  231124029244MGT1001_49K29.2\n",
      "30717  231124029244  MGT1002_49K29.2   1  231124029244MGT1002_49K29.2\n",
      "30718  231124029244  MIS3001_49K29.2   1  231124029244MIS3001_49K29.2\n",
      "30719  231124029244        SMT1005_4   1        231124029244SMT1005_4\n",
      "\n",
      "[30720 rows x 4 columns]\n"
     ]
    }
   ],
   "source": [
    "# tìm ra các sinh viên có tổng số câu trả lời dưới 25 cho lớp học phần\n",
    "gr_df_lessthan25 = gr_df[gr_df[11]<25]\n",
    "df_new = gr_df_lessthan25.reset_index(drop=True)\n",
    "df_new['key'] = df_new[1].astype(str) + df_new[10]\n",
    "print(df_new)   "
   ]
  },
  {
   "cell_type": "code",
   "execution_count": 5,
   "metadata": {},
   "outputs": [
    {
     "name": "stdout",
     "output_type": "stream",
     "text": [
      "       0             1            2     3           4        5  \\\n",
      "0  44K24  181121424115  Nguyễn Thục  Uyên  15/10/2000  ACC1001   \n",
      "1  44K24  181121424115  Nguyễn Thục  Uyên  15/10/2000  ACC1001   \n",
      "2  44K24  181121424115  Nguyễn Thục  Uyên  15/10/2000  ACC1001   \n",
      "3  44K24  181121424115  Nguyễn Thục  Uyên  15/10/2000  ACC1001   \n",
      "4  44K24  181121424115  Nguyễn Thục  Uyên  15/10/2000  ACC1001   \n",
      "\n",
      "                   6        7         8     9             10  11  12     13  \\\n",
      "0  Nguyên lý kế toán  2100329  Hồ Phước  Dũng  ACC1002_48K05   1   5  không   \n",
      "1  Nguyên lý kế toán  2100329  Hồ Phước  Dũng  ACC1002_48K05   2   5  không   \n",
      "2  Nguyên lý kế toán  2100329  Hồ Phước  Dũng  ACC1002_48K05   3   5  không   \n",
      "3  Nguyên lý kế toán  2100329  Hồ Phước  Dũng  ACC1002_48K05   4   5  không   \n",
      "4  Nguyên lý kế toán  2100329  Hồ Phước  Dũng  ACC1002_48K05   5   5  không   \n",
      "\n",
      "                         key  \n",
      "0  181121424115ACC1002_48K05  \n",
      "1  181121424115ACC1002_48K05  \n",
      "2  181121424115ACC1002_48K05  \n",
      "3  181121424115ACC1002_48K05  \n",
      "4  181121424115ACC1002_48K05  \n"
     ]
    }
   ],
   "source": [
    "# tạo khoá bằng masinhvien + malophocphan\n",
    "df_key = df\n",
    "df_key['key'] = df_key[1].astype(str) + df_key[10]\n",
    "print(df_key.head(5))"
   ]
  },
  {
   "cell_type": "code",
   "execution_count": 6,
   "metadata": {},
   "outputs": [
    {
     "name": "stdout",
     "output_type": "stream",
     "text": [
      "       0           1_x            2     3           4        5  \\\n",
      "0  44K24  181121424115  Nguyễn Thục  Uyên  15/10/2000  ACC1001   \n",
      "1  44K24  181121424115  Nguyễn Thục  Uyên  15/10/2000  ACC1001   \n",
      "2  44K24  181121424115  Nguyễn Thục  Uyên  15/10/2000  ACC1001   \n",
      "3  44K24  181121424115  Nguyễn Thục  Uyên  15/10/2000  ACC1001   \n",
      "4  44K24  181121424115  Nguyễn Thục  Uyên  15/10/2000  ACC1001   \n",
      "\n",
      "                   6        7         8     9           10_x  11_x  12     13  \\\n",
      "0  Nguyên lý kế toán  2100329  Hồ Phước  Dũng  ACC1002_48K05     1   5  không   \n",
      "1  Nguyên lý kế toán  2100329  Hồ Phước  Dũng  ACC1002_48K05     2   5  không   \n",
      "2  Nguyên lý kế toán  2100329  Hồ Phước  Dũng  ACC1002_48K05     3   5  không   \n",
      "3  Nguyên lý kế toán  2100329  Hồ Phước  Dũng  ACC1002_48K05     4   5  không   \n",
      "4  Nguyên lý kế toán  2100329  Hồ Phước  Dũng  ACC1002_48K05     5   5  không   \n",
      "\n",
      "                         key  1_y 10_y  11_y  \n",
      "0  181121424115ACC1002_48K05  NaN  NaN   NaN  \n",
      "1  181121424115ACC1002_48K05  NaN  NaN   NaN  \n",
      "2  181121424115ACC1002_48K05  NaN  NaN   NaN  \n",
      "3  181121424115ACC1002_48K05  NaN  NaN   NaN  \n",
      "4  181121424115ACC1002_48K05  NaN  NaN   NaN  \n"
     ]
    }
   ],
   "source": [
    "# nối 2 df theo key và left join\n",
    "df_merge = pd.merge(df_key, df_new, on='key', how='left')\n",
    "print(df_merge.head(5))"
   ]
  },
  {
   "cell_type": "code",
   "execution_count": 7,
   "metadata": {},
   "outputs": [
    {
     "name": "stdout",
     "output_type": "stream",
     "text": [
      "       0           1_x            2     3           4        5  \\\n",
      "0  44K24  181121424115  Nguyễn Thục  Uyên  15/10/2000  ACC1001   \n",
      "1  44K24  181121424115  Nguyễn Thục  Uyên  15/10/2000  ACC1001   \n",
      "2  44K24  181121424115  Nguyễn Thục  Uyên  15/10/2000  ACC1001   \n",
      "3  44K24  181121424115  Nguyễn Thục  Uyên  15/10/2000  ACC1001   \n",
      "4  44K24  181121424115  Nguyễn Thục  Uyên  15/10/2000  ACC1001   \n",
      "\n",
      "                   6        7         8     9           10_x  11_x  12     13  \\\n",
      "0  Nguyên lý kế toán  2100329  Hồ Phước  Dũng  ACC1002_48K05     1   5  không   \n",
      "1  Nguyên lý kế toán  2100329  Hồ Phước  Dũng  ACC1002_48K05     2   5  không   \n",
      "2  Nguyên lý kế toán  2100329  Hồ Phước  Dũng  ACC1002_48K05     3   5  không   \n",
      "3  Nguyên lý kế toán  2100329  Hồ Phước  Dũng  ACC1002_48K05     4   5  không   \n",
      "4  Nguyên lý kế toán  2100329  Hồ Phước  Dũng  ACC1002_48K05     5   5  không   \n",
      "\n",
      "                         key  1_y 10_y  11_y  \n",
      "0  181121424115ACC1002_48K05  NaN  NaN   NaN  \n",
      "1  181121424115ACC1002_48K05  NaN  NaN   NaN  \n",
      "2  181121424115ACC1002_48K05  NaN  NaN   NaN  \n",
      "3  181121424115ACC1002_48K05  NaN  NaN   NaN  \n",
      "4  181121424115ACC1002_48K05  NaN  NaN   NaN  \n"
     ]
    }
   ],
   "source": [
    "# tìm ra những cột có cột 11_y là null đây là danh sách đánh giá học phần của sinh viên có đủ số lượng câu hỏi\n",
    "df_merge_no_null = df_merge[df_merge['11_y'].isnull()]\n",
    "print(df_merge_no_null.head(5))"
   ]
  },
  {
   "cell_type": "code",
   "execution_count": 8,
   "metadata": {},
   "outputs": [
    {
     "name": "stdout",
     "output_type": "stream",
     "text": [
      "       0           1_x            2     3           4        5  \\\n",
      "0  44K24  181121424115  Nguyễn Thục  Uyên  15/10/2000  ACC1001   \n",
      "1  44K24  181121424115  Nguyễn Thục  Uyên  15/10/2000  ACC1001   \n",
      "2  44K24  181121424115  Nguyễn Thục  Uyên  15/10/2000  ACC1001   \n",
      "3  44K24  181121424115  Nguyễn Thục  Uyên  15/10/2000  ACC1001   \n",
      "4  44K24  181121424115  Nguyễn Thục  Uyên  15/10/2000  ACC1001   \n",
      "\n",
      "                   6        7         8     9           10_x  11_x  12     13  \n",
      "0  Nguyên lý kế toán  2100329  Hồ Phước  Dũng  ACC1002_48K05     1   5  không  \n",
      "1  Nguyên lý kế toán  2100329  Hồ Phước  Dũng  ACC1002_48K05     2   5  không  \n",
      "2  Nguyên lý kế toán  2100329  Hồ Phước  Dũng  ACC1002_48K05     3   5  không  \n",
      "3  Nguyên lý kế toán  2100329  Hồ Phước  Dũng  ACC1002_48K05     4   5  không  \n",
      "4  Nguyên lý kế toán  2100329  Hồ Phước  Dũng  ACC1002_48K05     5   5  không  \n"
     ]
    }
   ],
   "source": [
    "# xoá 4 cột đã nối \n",
    "df_final = df_merge_no_null.drop(df_merge_no_null.columns[-4:], axis=1)\n",
    "print(df_final.head(5))"
   ]
  },
  {
   "cell_type": "code",
   "execution_count": 9,
   "metadata": {},
   "outputs": [],
   "source": [
    "df_final.to_csv('KSHP_1_24_Transform_1.csv', index=False, header=False, encoding='utf-8')"
   ]
  }
 ],
 "metadata": {
  "kernelspec": {
   "display_name": "Python 3",
   "language": "python",
   "name": "python3"
  },
  "language_info": {
   "codemirror_mode": {
    "name": "ipython",
    "version": 3
   },
   "file_extension": ".py",
   "mimetype": "text/x-python",
   "name": "python",
   "nbconvert_exporter": "python",
   "pygments_lexer": "ipython3",
   "version": "3.12.2"
  }
 },
 "nbformat": 4,
 "nbformat_minor": 2
}
