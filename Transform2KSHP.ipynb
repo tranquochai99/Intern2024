{
 "cells": [
  {
   "cell_type": "code",
   "execution_count": 12,
   "metadata": {},
   "outputs": [
    {
     "name": "stderr",
     "output_type": "stream",
     "text": [
      "C:\\Users\\DW\\AppData\\Local\\Temp\\ipykernel_7756\\3749388447.py:2: DtypeWarning: Columns (7) have mixed types. Specify dtype option on import or set low_memory=False.\n",
      "  df_1 = pd.read_csv('KSHP_1_24_Transform_1.csv', header=None)\n"
     ]
    },
    {
     "name": "stdout",
     "output_type": "stream",
     "text": [
      "               0             1            2         3           4        5  \\\n",
      "0          44K24  181121424115  Nguyễn Thục      Uyên  15/10/2000  ACC1001   \n",
      "1          44K24  181121424115  Nguyễn Thục      Uyên  15/10/2000  ACC1001   \n",
      "2          44K24  181121424115  Nguyễn Thục      Uyên  15/10/2000  ACC1001   \n",
      "3          44K24  181121424115  Nguyễn Thục      Uyên  15/10/2000  ACC1001   \n",
      "4          44K24  181121424115  Nguyễn Thục      Uyên  15/10/2000  ACC1001   \n",
      "...          ...           ...          ...       ...         ...      ...   \n",
      "1020266  47K13.2  211120913269    Boualapha  Vanvilay  06/02/2001  VNA3004   \n",
      "1020267  47K13.2  211120913269    Boualapha  Vanvilay  06/02/2001  VNA3004   \n",
      "1020268  47K13.2  211120913269    Boualapha  Vanvilay  06/02/2001  VNA3004   \n",
      "1020269  47K13.2  211120913269    Boualapha  Vanvilay  06/02/2001  VNA3004   \n",
      "1020270  47K13.2  211120913269    Boualapha  Vanvilay  06/02/2001  VNA3004   \n",
      "\n",
      "                                 6        7             8     9  \\\n",
      "0                Nguyên lý kế toán  2100329      Hồ Phước  Dũng   \n",
      "1                Nguyên lý kế toán  2100329      Hồ Phước  Dũng   \n",
      "2                Nguyên lý kế toán  2100329      Hồ Phước  Dũng   \n",
      "3                Nguyên lý kế toán  2100329      Hồ Phước  Dũng   \n",
      "4                Nguyên lý kế toán  2100329      Hồ Phước  Dũng   \n",
      "...                            ...      ...           ...   ...   \n",
      "1020266  Tiếng việt chuyên ngành 2  3260005  Hồ Trần Ngọc  Oanh   \n",
      "1020267  Tiếng việt chuyên ngành 2  3260005  Hồ Trần Ngọc  Oanh   \n",
      "1020268  Tiếng việt chuyên ngành 2  3260005  Hồ Trần Ngọc  Oanh   \n",
      "1020269  Tiếng việt chuyên ngành 2  3260005  Hồ Trần Ngọc  Oanh   \n",
      "1020270  Tiếng việt chuyên ngành 2  3260005  Hồ Trần Ngọc  Oanh   \n",
      "\n",
      "                    10  11  12      13                        key  \n",
      "0        ACC1002_48K05   1   5   không  181121424115ACC1002_48K05  \n",
      "1        ACC1002_48K05   2   5   không  181121424115ACC1002_48K05  \n",
      "2        ACC1002_48K05   3   5   không  181121424115ACC1002_48K05  \n",
      "3        ACC1002_48K05   4   5   không  181121424115ACC1002_48K05  \n",
      "4        ACC1002_48K05   5   5   không  181121424115ACC1002_48K05  \n",
      "...                ...  ..  ..     ...                        ...  \n",
      "1020266      VNA3004_1  21   1  đồng ý      211120913269VNA3004_1  \n",
      "1020267      VNA3004_1  22   1  đồng ý      211120913269VNA3004_1  \n",
      "1020268      VNA3004_1  23   1  đồng ý      211120913269VNA3004_1  \n",
      "1020269      VNA3004_1  24   1  đồng ý      211120913269VNA3004_1  \n",
      "1020270      VNA3004_1  25   1  đồng ý      211120913269VNA3004_1  \n",
      "\n",
      "[1020221 rows x 15 columns]\n"
     ]
    }
   ],
   "source": [
    "# đọc và tạo key bằng masv + malophp\n",
    "import pandas as pd\n",
    "df_1 = pd.read_csv('KSHP_1_24_Transform_1.csv', header=None)\n",
    "df_1 = df_1.drop_duplicates()\n",
    "df_1['key'] = df_1[1].astype('str') + df_1[10]\n",
    "print(df_1)"
   ]
  },
  {
   "cell_type": "code",
   "execution_count": 13,
   "metadata": {},
   "outputs": [
    {
     "name": "stdout",
     "output_type": "stream",
     "text": [
      "                  1               10  11                          key\n",
      "21     181121505104       ENG2015_24  51       181121505104ENG2015_24\n",
      "52     191121006109        BAN3003_2  61        191121006109BAN3003_2\n",
      "101    191121325144        LAW3001_1  50        191121325144LAW3001_1\n",
      "166    191121927111    SMT3020_46K27  26    191121927111SMT3020_46K27\n",
      "170    191122015121        FIN3001_1  75        191122015121FIN3001_1\n",
      "...             ...              ...  ..                          ...\n",
      "40370  231124008144  MIS1002_49K08.1  26  231124008144MIS1002_49K08.1\n",
      "40391  231124022111       ENGELE1_34  26       231124022111ENGELE1_34\n",
      "40397  231124022421  ECO1001_49K22.4  29  231124022421ECO1001_49K22.4\n",
      "40419  231124029117  MIS3001_49K29.1  34  231124029117MIS3001_49K29.1\n",
      "40421  231124029129       ENGELE1_45  50       231124029129ENGELE1_45\n",
      "\n",
      "[489 rows x 4 columns]\n"
     ]
    }
   ],
   "source": [
    "# tìm ra những sinh viên trả lời trên 25 câu cho 1 lớp học phần\n",
    "df_2 = df_1.groupby([df_1.columns[1], df_1.columns[10]])[df_1.columns[11]].agg('count').reset_index()\n",
    "df_2 = df_2[df_2[11]>25]\n",
    "df_2['key'] = df_2[1].astype('str') + df_2[10]\n",
    "print(df_2)"
   ]
  },
  {
   "cell_type": "code",
   "execution_count": 14,
   "metadata": {},
   "outputs": [
    {
     "name": "stdout",
     "output_type": "stream",
     "text": [
      "                 0             1                2      3           4        5  \\\n",
      "225        46K02.3  201121302349      Nguyễn Đăng  Thiện  14/11/2002  ACC1001   \n",
      "226        46K02.3  201121302349      Nguyễn Đăng  Thiện  14/11/2002  ACC1001   \n",
      "227        46K02.3  201121302349      Nguyễn Đăng  Thiện  14/11/2002  ACC1001   \n",
      "228        46K02.3  201121302349      Nguyễn Đăng  Thiện  14/11/2002  ACC1001   \n",
      "229        46K02.3  201121302349      Nguyễn Đăng  Thiện  14/11/2002  ACC1001   \n",
      "...            ...           ...              ...    ...         ...      ...   \n",
      "1019341  48K01.2-E  221121699213  Nguyễn Thị Thảo   Ngọc  10/06/2004  VIS1909   \n",
      "1019342  48K01.2-E  221121699213  Nguyễn Thị Thảo   Ngọc  10/06/2004  VIS1909   \n",
      "1019343  48K01.2-E  221121699213  Nguyễn Thị Thảo   Ngọc  10/06/2004  VIS1909   \n",
      "1019344  48K01.2-E  221121699213  Nguyễn Thị Thảo   Ngọc  10/06/2004  VIS1909   \n",
      "1019345  48K01.2-E  221121699213  Nguyễn Thị Thảo   Ngọc  10/06/2004  VIS1909   \n",
      "\n",
      "                         6        7           8    9                 10  11  \\\n",
      "225      Nguyên lý kế toán  2100332      Lê Thị   Na    ACC1002_48K01.5   1   \n",
      "226      Nguyên lý kế toán  2100332      Lê Thị   Na    ACC1002_48K01.5   1   \n",
      "227      Nguyên lý kế toán  2100332      Lê Thị   Na    ACC1002_48K01.5   2   \n",
      "228      Nguyên lý kế toán  2100332      Lê Thị   Na    ACC1002_48K01.5   2   \n",
      "229      Nguyên lý kế toán  2100332      Lê Thị   Na    ACC1002_48K01.5   3   \n",
      "...                    ...      ...         ...  ...                ...  ..   \n",
      "1019341    Design Thinking  2160360  Trần Thiện  Trí  VIS1909_48K01.2-E  23   \n",
      "1019342    Design Thinking  2160360  Trần Thiện  Trí  VIS1909_48K01.2-E  24   \n",
      "1019343    Design Thinking  2160360  Trần Thiện  Trí  VIS1909_48K01.2-E  24   \n",
      "1019344    Design Thinking  2160360  Trần Thiện  Trí  VIS1909_48K01.2-E  25   \n",
      "1019345    Design Thinking  2160360  Trần Thiện  Trí  VIS1909_48K01.2-E  25   \n",
      "\n",
      "         12        13                                    key  \n",
      "225       3     khong       201121302349ACC1002_48K01.5khong  \n",
      "226       3         s           201121302349ACC1002_48K01.5s  \n",
      "227       3     khong       201121302349ACC1002_48K01.5khong  \n",
      "228       3         s           201121302349ACC1002_48K01.5s  \n",
      "229       3     khong       201121302349ACC1002_48K01.5khong  \n",
      "...      ..       ...                                    ...  \n",
      "1019341   3  Hai long  221121699213VIS1909_48K01.2-EHai long  \n",
      "1019342   3       abc       221121699213VIS1909_48K01.2-Eabc  \n",
      "1019343   3  Hai long  221121699213VIS1909_48K01.2-EHai long  \n",
      "1019344   3       abc       221121699213VIS1909_48K01.2-Eabc  \n",
      "1019345   3  Hai long  221121699213VIS1909_48K01.2-EHai long  \n",
      "\n",
      "[21185 rows x 15 columns]\n"
     ]
    },
    {
     "name": "stderr",
     "output_type": "stream",
     "text": [
      "C:\\Users\\DW\\AppData\\Local\\Temp\\ipykernel_7756\\3486464670.py:4: SettingWithCopyWarning: \n",
      "A value is trying to be set on a copy of a slice from a DataFrame.\n",
      "Try using .loc[row_indexer,col_indexer] = value instead\n",
      "\n",
      "See the caveats in the documentation: https://pandas.pydata.org/pandas-docs/stable/user_guide/indexing.html#returning-a-view-versus-a-copy\n",
      "  df_3['key'] = df_3['key'] + df_3[13]\n"
     ]
    }
   ],
   "source": [
    "#Danh sách KSHP của các sinh viên trả lời trên 25 câu cho 1 lớp học phần\n",
    "mask = df_1['key'].isin(df_2['key'])\n",
    "df_3 =df_1[mask]\n",
    "df_3['key'] = df_3['key'] + df_3[13]\n",
    "print(df_3)"
   ]
  },
  {
   "cell_type": "code",
   "execution_count": 15,
   "metadata": {},
   "outputs": [
    {
     "name": "stdout",
     "output_type": "stream",
     "text": [
      "               1                10                        13  11\n",
      "0    181121505104       ENG2015_24                        ok  25\n",
      "1    181121505104       ENG2015_24                 okghhjhjj  26\n",
      "2    191121006109        BAN3003_2                     khong  25\n",
      "3    191121006109        BAN3003_2                     không  36\n",
      "4    191121325144        LAW3001_1                         K  25\n",
      "..            ...              ...                       ...  ..\n",
      "883  231124022111       ENGELE1_34    khong co y kien j khac  26\n",
      "884  231124022421  ECO1001_49K22.4                   không ạ  29\n",
      "885  231124029117  MIS3001_49K29.1   Hài lòng với học phần ạ  34\n",
      "886  231124029129       ENGELE1_45   Em không có ý kiến gì ạ  25\n",
      "887  231124029129       ENGELE1_45  Em không có ý kiến gì ạ.  25\n",
      "\n",
      "[745 rows x 4 columns]\n"
     ]
    }
   ],
   "source": [
    "# tìm ra những sinh trả lời hơn 2 lần cho 1 phiếu khảo sát học phần \n",
    "df_5 = df_3.groupby([df_3.columns[1], df_3.columns[10], df_3.columns[13]])[df_3.columns[11]].agg('count').reset_index()\n",
    "df_5 = df_5[df_5[11]>=25]\n",
    "print(df_5)"
   ]
  },
  {
   "cell_type": "code",
   "execution_count": 16,
   "metadata": {},
   "outputs": [
    {
     "name": "stdout",
     "output_type": "stream",
     "text": [
      "                1               10                       13  11  \\\n",
      "0    181121505104       ENG2015_24                       ok  25   \n",
      "2    191121006109        BAN3003_2                    khong  25   \n",
      "4    191121325144        LAW3001_1                        K  25   \n",
      "6    191121927111    SMT3020_46K27                     Mali  26   \n",
      "7    191122015121        FIN3001_1                        .  25   \n",
      "..            ...              ...                      ...  ..   \n",
      "882  231124008144  MIS1002_49K08.1                Không có   26   \n",
      "883  231124022111       ENGELE1_34   khong co y kien j khac  26   \n",
      "884  231124022421  ECO1001_49K22.4                  không ạ  29   \n",
      "885  231124029117  MIS3001_49K29.1  Hài lòng với học phần ạ  34   \n",
      "886  231124029129       ENGELE1_45  Em không có ý kiến gì ạ  25   \n",
      "\n",
      "                                                   key  \n",
      "0                             181121505104ENG2015_24ok  \n",
      "2                           191121006109BAN3003_2khong  \n",
      "4                               191121325144LAW3001_1K  \n",
      "6                        191121927111SMT3020_46K27Mali  \n",
      "7                               191122015121FIN3001_1.  \n",
      "..                                                 ...  \n",
      "882               231124008144MIS1002_49K08.1Không có   \n",
      "883       231124022111ENGELE1_34khong co y kien j khac  \n",
      "884                 231124022421ECO1001_49K22.4không ạ  \n",
      "885  231124029117MIS3001_49K29.1Hài lòng với học ph...  \n",
      "886      231124029129ENGELE1_45Em không có ý kiến gì ạ  \n",
      "\n",
      "[474 rows x 5 columns]\n"
     ]
    }
   ],
   "source": [
    "# xoá bỏ các bộ trả lời trùng\n",
    "keep_rows = [True]  # Giữ lại hàng đầu tiên\n",
    "for i in range(1, len(df_5)):\n",
    "    condition = (df_5.iloc[i, 0] == df_5.iloc[i-1, 0]) and (df_5.iloc[i, 1] == df_5.iloc[i-1, 1]) and (df_5.iloc[i, 2] != df_5.iloc[i-1, 2])\n",
    "    keep_rows.append(not condition)\n",
    "\n",
    "df_5 = df_5[keep_rows]\n",
    "df_5['key'] = df_5[1].astype('str') + df_5[10] + df_5[13]\n",
    "# In DataFrame đã được sửa đổi\n",
    "print(df_5)"
   ]
  },
  {
   "cell_type": "code",
   "execution_count": 17,
   "metadata": {},
   "outputs": [
    {
     "name": "stdout",
     "output_type": "stream",
     "text": [
      "                 0             1                2      3           4        5  \\\n",
      "4055       48K01.4  221121601441    Phạm Thị Minh  Thành  25/01/2004  ACC1002   \n",
      "4056       48K01.4  221121601441    Phạm Thị Minh  Thành  25/01/2004  ACC1002   \n",
      "4057       48K01.4  221121601441    Phạm Thị Minh  Thành  25/01/2004  ACC1002   \n",
      "4058       48K01.4  221121601441    Phạm Thị Minh  Thành  25/01/2004  ACC1002   \n",
      "4059       48K01.4  221121601441    Phạm Thị Minh  Thành  25/01/2004  ACC1002   \n",
      "...            ...           ...              ...    ...         ...      ...   \n",
      "1019337  48K01.2-E  221121699213  Nguyễn Thị Thảo   Ngọc  10/06/2004  VIS1909   \n",
      "1019339  48K01.2-E  221121699213  Nguyễn Thị Thảo   Ngọc  10/06/2004  VIS1909   \n",
      "1019341  48K01.2-E  221121699213  Nguyễn Thị Thảo   Ngọc  10/06/2004  VIS1909   \n",
      "1019343  48K01.2-E  221121699213  Nguyễn Thị Thảo   Ngọc  10/06/2004  VIS1909   \n",
      "1019345  48K01.2-E  221121699213  Nguyễn Thị Thảo   Ngọc  10/06/2004  VIS1909   \n",
      "\n",
      "                        6        7             8    9                 10  11  \\\n",
      "4055     Nhập môn kế toán  2100351  Võ Thị Thanh  Vân    ACC1002_48K01.4   1   \n",
      "4056     Nhập môn kế toán  2100351  Võ Thị Thanh  Vân    ACC1002_48K01.4   1   \n",
      "4057     Nhập môn kế toán  2100351  Võ Thị Thanh  Vân    ACC1002_48K01.4   2   \n",
      "4058     Nhập môn kế toán  2100351  Võ Thị Thanh  Vân    ACC1002_48K01.4   3   \n",
      "4059     Nhập môn kế toán  2100351  Võ Thị Thanh  Vân    ACC1002_48K01.4   4   \n",
      "...                   ...      ...           ...  ...                ...  ..   \n",
      "1019337   Design Thinking  2160360    Trần Thiện  Trí  VIS1909_48K01.2-E  21   \n",
      "1019339   Design Thinking  2160360    Trần Thiện  Trí  VIS1909_48K01.2-E  22   \n",
      "1019341   Design Thinking  2160360    Trần Thiện  Trí  VIS1909_48K01.2-E  23   \n",
      "1019343   Design Thinking  2160360    Trần Thiện  Trí  VIS1909_48K01.2-E  24   \n",
      "1019345   Design Thinking  2160360    Trần Thiện  Trí  VIS1909_48K01.2-E  25   \n",
      "\n",
      "         12        13                                    key  \n",
      "4055      4  DẠ KHÔNG    221121601441ACC1002_48K01.4DẠ KHÔNG  \n",
      "4056      5  DẠ KHÔNG    221121601441ACC1002_48K01.4DẠ KHÔNG  \n",
      "4057      5  DẠ KHÔNG    221121601441ACC1002_48K01.4DẠ KHÔNG  \n",
      "4058      5  DẠ KHÔNG    221121601441ACC1002_48K01.4DẠ KHÔNG  \n",
      "4059      5  DẠ KHÔNG    221121601441ACC1002_48K01.4DẠ KHÔNG  \n",
      "...      ..       ...                                    ...  \n",
      "1019337   3  Hai long  221121699213VIS1909_48K01.2-EHai long  \n",
      "1019339   3  Hai long  221121699213VIS1909_48K01.2-EHai long  \n",
      "1019341   3  Hai long  221121699213VIS1909_48K01.2-EHai long  \n",
      "1019343   3  Hai long  221121699213VIS1909_48K01.2-EHai long  \n",
      "1019345   3  Hai long  221121699213VIS1909_48K01.2-EHai long  \n",
      "\n",
      "[12663 rows x 15 columns]\n"
     ]
    }
   ],
   "source": [
    "# lấy bộ dữ liệu của cách dữ liệu đã chọn ở df_5\n",
    "mask2 = df_3['key'].isin(df_5['key'])\n",
    "df_6 = df_3[mask2]\n",
    "print(df_6)"
   ]
  },
  {
   "cell_type": "code",
   "execution_count": 18,
   "metadata": {},
   "outputs": [
    {
     "name": "stdout",
     "output_type": "stream",
     "text": [
      "                 0             1                2      3           4        5  \\\n",
      "4055       48K01.4  221121601441    Phạm Thị Minh  Thành  25/01/2004  ACC1002   \n",
      "4057       48K01.4  221121601441    Phạm Thị Minh  Thành  25/01/2004  ACC1002   \n",
      "4058       48K01.4  221121601441    Phạm Thị Minh  Thành  25/01/2004  ACC1002   \n",
      "4059       48K01.4  221121601441    Phạm Thị Minh  Thành  25/01/2004  ACC1002   \n",
      "4060       48K01.4  221121601441    Phạm Thị Minh  Thành  25/01/2004  ACC1002   \n",
      "...            ...           ...              ...    ...         ...      ...   \n",
      "1019337  48K01.2-E  221121699213  Nguyễn Thị Thảo   Ngọc  10/06/2004  VIS1909   \n",
      "1019339  48K01.2-E  221121699213  Nguyễn Thị Thảo   Ngọc  10/06/2004  VIS1909   \n",
      "1019341  48K01.2-E  221121699213  Nguyễn Thị Thảo   Ngọc  10/06/2004  VIS1909   \n",
      "1019343  48K01.2-E  221121699213  Nguyễn Thị Thảo   Ngọc  10/06/2004  VIS1909   \n",
      "1019345  48K01.2-E  221121699213  Nguyễn Thị Thảo   Ngọc  10/06/2004  VIS1909   \n",
      "\n",
      "                        6        7             8    9                 10  11  \\\n",
      "4055     Nhập môn kế toán  2100351  Võ Thị Thanh  Vân    ACC1002_48K01.4   1   \n",
      "4057     Nhập môn kế toán  2100351  Võ Thị Thanh  Vân    ACC1002_48K01.4   2   \n",
      "4058     Nhập môn kế toán  2100351  Võ Thị Thanh  Vân    ACC1002_48K01.4   3   \n",
      "4059     Nhập môn kế toán  2100351  Võ Thị Thanh  Vân    ACC1002_48K01.4   4   \n",
      "4060     Nhập môn kế toán  2100351  Võ Thị Thanh  Vân    ACC1002_48K01.4   5   \n",
      "...                   ...      ...           ...  ...                ...  ..   \n",
      "1019337   Design Thinking  2160360    Trần Thiện  Trí  VIS1909_48K01.2-E  21   \n",
      "1019339   Design Thinking  2160360    Trần Thiện  Trí  VIS1909_48K01.2-E  22   \n",
      "1019341   Design Thinking  2160360    Trần Thiện  Trí  VIS1909_48K01.2-E  23   \n",
      "1019343   Design Thinking  2160360    Trần Thiện  Trí  VIS1909_48K01.2-E  24   \n",
      "1019345   Design Thinking  2160360    Trần Thiện  Trí  VIS1909_48K01.2-E  25   \n",
      "\n",
      "         12        13                                    key  \n",
      "4055      4  DẠ KHÔNG    221121601441ACC1002_48K01.4DẠ KHÔNG  \n",
      "4057      5  DẠ KHÔNG    221121601441ACC1002_48K01.4DẠ KHÔNG  \n",
      "4058      5  DẠ KHÔNG    221121601441ACC1002_48K01.4DẠ KHÔNG  \n",
      "4059      5  DẠ KHÔNG    221121601441ACC1002_48K01.4DẠ KHÔNG  \n",
      "4060      5  DẠ KHÔNG    221121601441ACC1002_48K01.4DẠ KHÔNG  \n",
      "...      ..       ...                                    ...  \n",
      "1019337   3  Hai long  221121699213VIS1909_48K01.2-EHai long  \n",
      "1019339   3  Hai long  221121699213VIS1909_48K01.2-EHai long  \n",
      "1019341   3  Hai long  221121699213VIS1909_48K01.2-EHai long  \n",
      "1019343   3  Hai long  221121699213VIS1909_48K01.2-EHai long  \n",
      "1019345   3  Hai long  221121699213VIS1909_48K01.2-EHai long  \n",
      "\n",
      "[11847 rows x 15 columns]\n"
     ]
    }
   ],
   "source": [
    "# Xoá bỏ các bộ trả lời tuy có đủ 25 câu nhưng có trả lời lặp 1 hoặc nhiều câu bất kì \n",
    "# Tạo một mảng boolean để chỉ ra các hàng phù hợp với điều kiện\n",
    "keep_rows1 = [True]  # Giữ lại hàng đầu tiên\n",
    "for i in range(1, len(df_6)):\n",
    "    condition1 = (df_6.iloc[i, 1] == df_6.iloc[i-1, 1]) and (df_6.iloc[i, 10] == df_6.iloc[i-1, 10]) and (df_6.iloc[i, 11] == df_6.iloc[i-1, 11])\n",
    "    keep_rows1.append(not condition1)\n",
    "\n",
    "# Lọc DataFrame với mảng boolean\n",
    "df_6 = df_6[keep_rows1]\n",
    "\n",
    "# In DataFrame đã được sửa đổi\n",
    "print(df_6)"
   ]
  },
  {
   "cell_type": "code",
   "execution_count": 20,
   "metadata": {},
   "outputs": [
    {
     "name": "stdout",
     "output_type": "stream",
     "text": [
      "Empty DataFrame\n",
      "Columns: [1, 10, 11]\n",
      "Index: []\n"
     ]
    }
   ],
   "source": [
    "# kiểm tra\n",
    "df_7 = df_6.groupby([df_6.columns[1], df_6.columns[10]])[df_6.columns[11]].agg('count').reset_index()\n",
    "df_7 = df_7[df_7[11]>25]\n",
    "print(df_7)"
   ]
  },
  {
   "cell_type": "code",
   "execution_count": 21,
   "metadata": {},
   "outputs": [],
   "source": [
    "# xoá bỏ cột key trong df_1, df_3, df_6\n",
    "df_1 = df_1.drop('key', axis=1)\n",
    "df_3 = df_3.drop('key', axis=1)\n",
    "df_6 = df_6.drop('key', axis=1)"
   ]
  },
  {
   "cell_type": "code",
   "execution_count": 22,
   "metadata": {},
   "outputs": [
    {
     "name": "stdout",
     "output_type": "stream",
     "text": [
      "             0             1            2     3           4        5  \\\n",
      "0        43K21  171121521111        Lê Hồ   Đạt  06/03/1999  ACC2003   \n",
      "1        43K21  171121521111        Lê Hồ   Đạt  06/03/1999  ACC2003   \n",
      "2        43K21  171121521111        Lê Hồ   Đạt  06/03/1999  ACC2003   \n",
      "3        43K21  171121521111        Lê Hồ   Đạt  06/03/1999  ACC2003   \n",
      "4        43K21  171121521111        Lê Hồ   Đạt  06/03/1999  ACC2003   \n",
      "...        ...           ...          ...   ...         ...      ...   \n",
      "1020216  49K33  231122033119  Nguyễn Quốc  Hưng  21/05/2005  ENG2015   \n",
      "1020217  49K33  231122033119  Nguyễn Quốc  Hưng  21/05/2005  ENG2015   \n",
      "1020218  49K33  231122033119  Nguyễn Quốc  Hưng  21/05/2005  ENG2015   \n",
      "1020219  49K33  231122033119  Nguyễn Quốc  Hưng  21/05/2005  ENG2015   \n",
      "1020220  49K33  231122033119  Nguyễn Quốc  Hưng  21/05/2005  ENG2015   \n",
      "\n",
      "                               6        7       8         9          10  11  \\\n",
      "0              Kế toán tài chính  2100107  Lê Văn       Nam   ACC2003_1   1   \n",
      "1              Kế toán tài chính  2100107  Lê Văn       Nam   ACC2003_1   2   \n",
      "2              Kế toán tài chính  2100107  Lê Văn       Nam   ACC2003_1   3   \n",
      "3              Kế toán tài chính  2100107  Lê Văn       Nam   ACC2003_1   4   \n",
      "4              Kế toán tài chính  2100107  Lê Văn       Nam   ACC2003_1   5   \n",
      "...                          ...      ...     ...       ...         ...  ..   \n",
      "1020216  English Communication 1  TG42748   Lauri  Louekari  ENG2015_52  21   \n",
      "1020217  English Communication 1  TG42748   Lauri  Louekari  ENG2015_52  22   \n",
      "1020218  English Communication 1  TG42748   Lauri  Louekari  ENG2015_52  23   \n",
      "1020219  English Communication 1  TG42748   Lauri  Louekari  ENG2015_52  24   \n",
      "1020220  English Communication 1  TG42748   Lauri  Louekari  ENG2015_52  25   \n",
      "\n",
      "         12                        13  \n",
      "0         5  dạ không có ý kiến gì ạ!  \n",
      "1         5  dạ không có ý kiến gì ạ!  \n",
      "2         5  dạ không có ý kiến gì ạ!  \n",
      "3         5  dạ không có ý kiến gì ạ!  \n",
      "4         5  dạ không có ý kiến gì ạ!  \n",
      "...      ..                       ...  \n",
      "1020216   5                     không  \n",
      "1020217   5                     không  \n",
      "1020218   1                     không  \n",
      "1020219   1                     không  \n",
      "1020220   5                     không  \n",
      "\n",
      "[1010883 rows x 14 columns]\n"
     ]
    }
   ],
   "source": [
    "# xoá bỏ df_6 trong df_3\n",
    "df_3_6 = df_3.merge(df_6, how='outer', indicator=True).loc[lambda x: x['_merge'] == 'left_only'].drop('_merge', axis=1)\n",
    "\n",
    "#xoá bỏ df_3_6 trong df_1\n",
    "df_final = df_1.merge(df_3_6, how='outer', indicator=True).loc[lambda x: x['_merge'] == 'left_only'].drop('_merge', axis=1)\n",
    "\n",
    "print(df_final)\n",
    "\n",
    "df_final.to_csv('KSHP_1_24_Transform_2.csv', index=False, header=False, encoding='utf-8')"
   ]
  },
  {
   "cell_type": "code",
   "execution_count": 23,
   "metadata": {},
   "outputs": [
    {
     "name": "stdout",
     "output_type": "stream",
     "text": [
      "                  1                10  11  12\n",
      "409525  211121514140  MIS3041_46K29.1   1   2\n",
      "409526  211121514140  MIS3041_46K29.1   2   2\n",
      "409527  211121514140  MIS3041_46K29.1   3   2\n"
     ]
    }
   ],
   "source": [
    "df_t = df_final.groupby([df_final.columns[1], df_final.columns[10], df_final.columns[11]])[df_final.columns[12]].agg('count').reset_index()\n",
    "df_t = df_t[df_t[12]>1]\n",
    "print(df_t)"
   ]
  },
  {
   "cell_type": "code",
   "execution_count": 16,
   "metadata": {},
   "outputs": [
    {
     "name": "stderr",
     "output_type": "stream",
     "text": [
      "C:\\Users\\DW\\AppData\\Local\\Temp\\ipykernel_9644\\2243549580.py:3: DtypeWarning: Columns (7) have mixed types. Specify dtype option on import or set low_memory=False.\n",
      "  df = pd.read_csv('KSHP_2_Transform_2.csv', header=None)\n"
     ]
    }
   ],
   "source": [
    "# cắt dữ liệu\n",
    "import pandas as pd\n",
    "df = pd.read_csv('KSHP_2_Transform_2.csv', header=None)\n",
    "df_selected = df.iloc[0:700000]\n",
    "df_selected.to_csv('KSHP2_cut.csv', header=False, index=False, encoding='utf-8' )"
   ]
  },
  {
   "cell_type": "code",
   "execution_count": 21,
   "metadata": {},
   "outputs": [
    {
     "name": "stdout",
     "output_type": "stream",
     "text": [
      "1024\n"
     ]
    }
   ],
   "source": [
    "max_length = d2.iloc[:, 13].astype(str).apply(len).max()\n",
    "print(max_length)"
   ]
  }
 ],
 "metadata": {
  "kernelspec": {
   "display_name": "Python 3",
   "language": "python",
   "name": "python3"
  },
  "language_info": {
   "codemirror_mode": {
    "name": "ipython",
    "version": 3
   },
   "file_extension": ".py",
   "mimetype": "text/x-python",
   "name": "python",
   "nbconvert_exporter": "python",
   "pygments_lexer": "ipython3",
   "version": "3.12.2"
  }
 },
 "nbformat": 4,
 "nbformat_minor": 2
}
